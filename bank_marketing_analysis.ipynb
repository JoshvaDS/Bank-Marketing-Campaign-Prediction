{
 "cells": [
  {
   "cell_type": "markdown",
   "metadata": {},
   "source": [
    "#### **Bank Marketing Campaign Success Prediction - Using Classification Models**\n",
    "\n",
    "The success of marketing campaigns is analyzed to predict whether customers will subscribe to term deposits. In this analysis, we aim to classify campaign outcomes using **`Logistic Regression`**, **`Decision Tree`**, and **`XGBoost`** algorithms, with a focus on feature selection and model evaluation."
   ]
  },
  {
   "cell_type": "markdown",
   "metadata": {},
   "source": [
    "# **Importing essential Libraries**"
   ]
  },
  {
   "cell_type": "code",
   "execution_count": 2,
   "metadata": {},
   "outputs": [],
   "source": [
    "# Importing necessary libraries\n",
    "import numpy as np                                                              # For numerical operations and handling arrays\n",
    "import pandas as pd                                                             # For data manipulation and analysis\n",
    "import seaborn as sns                                                           # For statistical data visualization (e.g., heatmaps)\n",
    "import matplotlib.pyplot as plt                                                 # For general plotting and visualization\n",
    "\n",
    "from sklearn.feature_selection import SelectKBest\n",
    "from sklearn.feature_selection import mutual_info_classif\n",
    "\n",
    "# Importing tools for data preprocessing and model evaluation\n",
    "from sklearn.model_selection import train_test_split                                    # To split data into training and testing sets\n",
    "from sklearn.metrics import accuracy_score, precision_score, recall_score, f1_score     # For model evaluation metrics\n",
    "from sklearn.model_selection import cross_val_score                                     # For performing cross-validation\n",
    "\n",
    "# Standardization for consistent model performance\n",
    "from sklearn.preprocessing import StandardScaler                                        # To scale features for uniformity\n",
    "\n",
    "# Importing classification models\n",
    "\n",
    "from sklearn.linear_model import LogisticRegression                                     # Logistic Regression for binary classification\n",
    "from sklearn.tree import DecisionTreeClassifier                                         # Decision Tree for rule-based classification\n",
    "from xgboost import XGBClassifier                                                       # XGBoost, an ensemble method for robust predictions\n"
   ]
  },
  {
   "cell_type": "markdown",
   "metadata": {},
   "source": [
    "# **Loading Bank DataSet**"
   ]
  },
  {
   "cell_type": "code",
   "execution_count": 3,
   "metadata": {},
   "outputs": [],
   "source": [
    "# Loading the Bank Marketing Dataset\n",
    "# Define the path to the CSV file containing the bank marketing dataset\n",
    "csv_file = 'Data/bank-full.csv'\n",
    "\n",
    "# Reading the CSV file into a pandas DataFrame using the semicolon (;) as the delimiter\n",
    "bank_marketing_df = pd.read_csv(csv_file, sep=';')\n",
    " "
   ]
  },
  {
   "cell_type": "markdown",
   "metadata": {},
   "source": [
    "# **Statistical Overview of the Dataset**\n",
    "\n",
    "## **Exploring the Dataset**"
   ]
  },
  {
   "cell_type": "code",
   "execution_count": 4,
   "metadata": {},
   "outputs": [
    {
     "name": "stdout",
     "output_type": "stream",
     "text": [
      "Dataset Head:\n"
     ]
    },
    {
     "data": {
      "text/html": [
       "<div>\n",
       "<style scoped>\n",
       "    .dataframe tbody tr th:only-of-type {\n",
       "        vertical-align: middle;\n",
       "    }\n",
       "\n",
       "    .dataframe tbody tr th {\n",
       "        vertical-align: top;\n",
       "    }\n",
       "\n",
       "    .dataframe thead th {\n",
       "        text-align: right;\n",
       "    }\n",
       "</style>\n",
       "<table border=\"1\" class=\"dataframe\">\n",
       "  <thead>\n",
       "    <tr style=\"text-align: right;\">\n",
       "      <th></th>\n",
       "      <th>age</th>\n",
       "      <th>job</th>\n",
       "      <th>marital</th>\n",
       "      <th>education</th>\n",
       "      <th>default</th>\n",
       "      <th>balance</th>\n",
       "      <th>housing</th>\n",
       "      <th>loan</th>\n",
       "      <th>contact</th>\n",
       "      <th>day</th>\n",
       "      <th>month</th>\n",
       "      <th>duration</th>\n",
       "      <th>campaign</th>\n",
       "      <th>pdays</th>\n",
       "      <th>previous</th>\n",
       "      <th>poutcome</th>\n",
       "      <th>y</th>\n",
       "    </tr>\n",
       "  </thead>\n",
       "  <tbody>\n",
       "    <tr>\n",
       "      <th>0</th>\n",
       "      <td>58</td>\n",
       "      <td>management</td>\n",
       "      <td>married</td>\n",
       "      <td>tertiary</td>\n",
       "      <td>no</td>\n",
       "      <td>2143</td>\n",
       "      <td>yes</td>\n",
       "      <td>no</td>\n",
       "      <td>unknown</td>\n",
       "      <td>5</td>\n",
       "      <td>may</td>\n",
       "      <td>261</td>\n",
       "      <td>1</td>\n",
       "      <td>-1</td>\n",
       "      <td>0</td>\n",
       "      <td>unknown</td>\n",
       "      <td>no</td>\n",
       "    </tr>\n",
       "    <tr>\n",
       "      <th>1</th>\n",
       "      <td>44</td>\n",
       "      <td>technician</td>\n",
       "      <td>single</td>\n",
       "      <td>secondary</td>\n",
       "      <td>no</td>\n",
       "      <td>29</td>\n",
       "      <td>yes</td>\n",
       "      <td>no</td>\n",
       "      <td>unknown</td>\n",
       "      <td>5</td>\n",
       "      <td>may</td>\n",
       "      <td>151</td>\n",
       "      <td>1</td>\n",
       "      <td>-1</td>\n",
       "      <td>0</td>\n",
       "      <td>unknown</td>\n",
       "      <td>no</td>\n",
       "    </tr>\n",
       "    <tr>\n",
       "      <th>2</th>\n",
       "      <td>33</td>\n",
       "      <td>entrepreneur</td>\n",
       "      <td>married</td>\n",
       "      <td>secondary</td>\n",
       "      <td>no</td>\n",
       "      <td>2</td>\n",
       "      <td>yes</td>\n",
       "      <td>yes</td>\n",
       "      <td>unknown</td>\n",
       "      <td>5</td>\n",
       "      <td>may</td>\n",
       "      <td>76</td>\n",
       "      <td>1</td>\n",
       "      <td>-1</td>\n",
       "      <td>0</td>\n",
       "      <td>unknown</td>\n",
       "      <td>no</td>\n",
       "    </tr>\n",
       "    <tr>\n",
       "      <th>3</th>\n",
       "      <td>47</td>\n",
       "      <td>blue-collar</td>\n",
       "      <td>married</td>\n",
       "      <td>unknown</td>\n",
       "      <td>no</td>\n",
       "      <td>1506</td>\n",
       "      <td>yes</td>\n",
       "      <td>no</td>\n",
       "      <td>unknown</td>\n",
       "      <td>5</td>\n",
       "      <td>may</td>\n",
       "      <td>92</td>\n",
       "      <td>1</td>\n",
       "      <td>-1</td>\n",
       "      <td>0</td>\n",
       "      <td>unknown</td>\n",
       "      <td>no</td>\n",
       "    </tr>\n",
       "    <tr>\n",
       "      <th>4</th>\n",
       "      <td>33</td>\n",
       "      <td>unknown</td>\n",
       "      <td>single</td>\n",
       "      <td>unknown</td>\n",
       "      <td>no</td>\n",
       "      <td>1</td>\n",
       "      <td>no</td>\n",
       "      <td>no</td>\n",
       "      <td>unknown</td>\n",
       "      <td>5</td>\n",
       "      <td>may</td>\n",
       "      <td>198</td>\n",
       "      <td>1</td>\n",
       "      <td>-1</td>\n",
       "      <td>0</td>\n",
       "      <td>unknown</td>\n",
       "      <td>no</td>\n",
       "    </tr>\n",
       "  </tbody>\n",
       "</table>\n",
       "</div>"
      ],
      "text/plain": [
       "   age           job  marital  education default  balance housing loan  \\\n",
       "0   58    management  married   tertiary      no     2143     yes   no   \n",
       "1   44    technician   single  secondary      no       29     yes   no   \n",
       "2   33  entrepreneur  married  secondary      no        2     yes  yes   \n",
       "3   47   blue-collar  married    unknown      no     1506     yes   no   \n",
       "4   33       unknown   single    unknown      no        1      no   no   \n",
       "\n",
       "   contact  day month  duration  campaign  pdays  previous poutcome   y  \n",
       "0  unknown    5   may       261         1     -1         0  unknown  no  \n",
       "1  unknown    5   may       151         1     -1         0  unknown  no  \n",
       "2  unknown    5   may        76         1     -1         0  unknown  no  \n",
       "3  unknown    5   may        92         1     -1         0  unknown  no  \n",
       "4  unknown    5   may       198         1     -1         0  unknown  no  "
      ]
     },
     "execution_count": 4,
     "metadata": {},
     "output_type": "execute_result"
    }
   ],
   "source": [
    "# Displaying the first 5 rows of the dataset to understand its structure and content\n",
    "print(\"Dataset Head:\")\n",
    "bank_marketing_df.head()"
   ]
  },
  {
   "cell_type": "code",
   "execution_count": 5,
   "metadata": {},
   "outputs": [
    {
     "name": "stdout",
     "output_type": "stream",
     "text": [
      "Dataset Tail:\n"
     ]
    },
    {
     "data": {
      "text/html": [
       "<div>\n",
       "<style scoped>\n",
       "    .dataframe tbody tr th:only-of-type {\n",
       "        vertical-align: middle;\n",
       "    }\n",
       "\n",
       "    .dataframe tbody tr th {\n",
       "        vertical-align: top;\n",
       "    }\n",
       "\n",
       "    .dataframe thead th {\n",
       "        text-align: right;\n",
       "    }\n",
       "</style>\n",
       "<table border=\"1\" class=\"dataframe\">\n",
       "  <thead>\n",
       "    <tr style=\"text-align: right;\">\n",
       "      <th></th>\n",
       "      <th>age</th>\n",
       "      <th>job</th>\n",
       "      <th>marital</th>\n",
       "      <th>education</th>\n",
       "      <th>default</th>\n",
       "      <th>balance</th>\n",
       "      <th>housing</th>\n",
       "      <th>loan</th>\n",
       "      <th>contact</th>\n",
       "      <th>day</th>\n",
       "      <th>month</th>\n",
       "      <th>duration</th>\n",
       "      <th>campaign</th>\n",
       "      <th>pdays</th>\n",
       "      <th>previous</th>\n",
       "      <th>poutcome</th>\n",
       "      <th>y</th>\n",
       "    </tr>\n",
       "  </thead>\n",
       "  <tbody>\n",
       "    <tr>\n",
       "      <th>45201</th>\n",
       "      <td>53</td>\n",
       "      <td>management</td>\n",
       "      <td>married</td>\n",
       "      <td>tertiary</td>\n",
       "      <td>no</td>\n",
       "      <td>583</td>\n",
       "      <td>no</td>\n",
       "      <td>no</td>\n",
       "      <td>cellular</td>\n",
       "      <td>17</td>\n",
       "      <td>nov</td>\n",
       "      <td>226</td>\n",
       "      <td>1</td>\n",
       "      <td>184</td>\n",
       "      <td>4</td>\n",
       "      <td>success</td>\n",
       "      <td>yes</td>\n",
       "    </tr>\n",
       "    <tr>\n",
       "      <th>45202</th>\n",
       "      <td>34</td>\n",
       "      <td>admin.</td>\n",
       "      <td>single</td>\n",
       "      <td>secondary</td>\n",
       "      <td>no</td>\n",
       "      <td>557</td>\n",
       "      <td>no</td>\n",
       "      <td>no</td>\n",
       "      <td>cellular</td>\n",
       "      <td>17</td>\n",
       "      <td>nov</td>\n",
       "      <td>224</td>\n",
       "      <td>1</td>\n",
       "      <td>-1</td>\n",
       "      <td>0</td>\n",
       "      <td>unknown</td>\n",
       "      <td>yes</td>\n",
       "    </tr>\n",
       "    <tr>\n",
       "      <th>45203</th>\n",
       "      <td>23</td>\n",
       "      <td>student</td>\n",
       "      <td>single</td>\n",
       "      <td>tertiary</td>\n",
       "      <td>no</td>\n",
       "      <td>113</td>\n",
       "      <td>no</td>\n",
       "      <td>no</td>\n",
       "      <td>cellular</td>\n",
       "      <td>17</td>\n",
       "      <td>nov</td>\n",
       "      <td>266</td>\n",
       "      <td>1</td>\n",
       "      <td>-1</td>\n",
       "      <td>0</td>\n",
       "      <td>unknown</td>\n",
       "      <td>yes</td>\n",
       "    </tr>\n",
       "    <tr>\n",
       "      <th>45204</th>\n",
       "      <td>73</td>\n",
       "      <td>retired</td>\n",
       "      <td>married</td>\n",
       "      <td>secondary</td>\n",
       "      <td>no</td>\n",
       "      <td>2850</td>\n",
       "      <td>no</td>\n",
       "      <td>no</td>\n",
       "      <td>cellular</td>\n",
       "      <td>17</td>\n",
       "      <td>nov</td>\n",
       "      <td>300</td>\n",
       "      <td>1</td>\n",
       "      <td>40</td>\n",
       "      <td>8</td>\n",
       "      <td>failure</td>\n",
       "      <td>yes</td>\n",
       "    </tr>\n",
       "    <tr>\n",
       "      <th>45205</th>\n",
       "      <td>25</td>\n",
       "      <td>technician</td>\n",
       "      <td>single</td>\n",
       "      <td>secondary</td>\n",
       "      <td>no</td>\n",
       "      <td>505</td>\n",
       "      <td>no</td>\n",
       "      <td>yes</td>\n",
       "      <td>cellular</td>\n",
       "      <td>17</td>\n",
       "      <td>nov</td>\n",
       "      <td>386</td>\n",
       "      <td>2</td>\n",
       "      <td>-1</td>\n",
       "      <td>0</td>\n",
       "      <td>unknown</td>\n",
       "      <td>yes</td>\n",
       "    </tr>\n",
       "    <tr>\n",
       "      <th>45206</th>\n",
       "      <td>51</td>\n",
       "      <td>technician</td>\n",
       "      <td>married</td>\n",
       "      <td>tertiary</td>\n",
       "      <td>no</td>\n",
       "      <td>825</td>\n",
       "      <td>no</td>\n",
       "      <td>no</td>\n",
       "      <td>cellular</td>\n",
       "      <td>17</td>\n",
       "      <td>nov</td>\n",
       "      <td>977</td>\n",
       "      <td>3</td>\n",
       "      <td>-1</td>\n",
       "      <td>0</td>\n",
       "      <td>unknown</td>\n",
       "      <td>yes</td>\n",
       "    </tr>\n",
       "    <tr>\n",
       "      <th>45207</th>\n",
       "      <td>71</td>\n",
       "      <td>retired</td>\n",
       "      <td>divorced</td>\n",
       "      <td>primary</td>\n",
       "      <td>no</td>\n",
       "      <td>1729</td>\n",
       "      <td>no</td>\n",
       "      <td>no</td>\n",
       "      <td>cellular</td>\n",
       "      <td>17</td>\n",
       "      <td>nov</td>\n",
       "      <td>456</td>\n",
       "      <td>2</td>\n",
       "      <td>-1</td>\n",
       "      <td>0</td>\n",
       "      <td>unknown</td>\n",
       "      <td>yes</td>\n",
       "    </tr>\n",
       "    <tr>\n",
       "      <th>45208</th>\n",
       "      <td>72</td>\n",
       "      <td>retired</td>\n",
       "      <td>married</td>\n",
       "      <td>secondary</td>\n",
       "      <td>no</td>\n",
       "      <td>5715</td>\n",
       "      <td>no</td>\n",
       "      <td>no</td>\n",
       "      <td>cellular</td>\n",
       "      <td>17</td>\n",
       "      <td>nov</td>\n",
       "      <td>1127</td>\n",
       "      <td>5</td>\n",
       "      <td>184</td>\n",
       "      <td>3</td>\n",
       "      <td>success</td>\n",
       "      <td>yes</td>\n",
       "    </tr>\n",
       "    <tr>\n",
       "      <th>45209</th>\n",
       "      <td>57</td>\n",
       "      <td>blue-collar</td>\n",
       "      <td>married</td>\n",
       "      <td>secondary</td>\n",
       "      <td>no</td>\n",
       "      <td>668</td>\n",
       "      <td>no</td>\n",
       "      <td>no</td>\n",
       "      <td>telephone</td>\n",
       "      <td>17</td>\n",
       "      <td>nov</td>\n",
       "      <td>508</td>\n",
       "      <td>4</td>\n",
       "      <td>-1</td>\n",
       "      <td>0</td>\n",
       "      <td>unknown</td>\n",
       "      <td>no</td>\n",
       "    </tr>\n",
       "    <tr>\n",
       "      <th>45210</th>\n",
       "      <td>37</td>\n",
       "      <td>entrepreneur</td>\n",
       "      <td>married</td>\n",
       "      <td>secondary</td>\n",
       "      <td>no</td>\n",
       "      <td>2971</td>\n",
       "      <td>no</td>\n",
       "      <td>no</td>\n",
       "      <td>cellular</td>\n",
       "      <td>17</td>\n",
       "      <td>nov</td>\n",
       "      <td>361</td>\n",
       "      <td>2</td>\n",
       "      <td>188</td>\n",
       "      <td>11</td>\n",
       "      <td>other</td>\n",
       "      <td>no</td>\n",
       "    </tr>\n",
       "  </tbody>\n",
       "</table>\n",
       "</div>"
      ],
      "text/plain": [
       "       age           job   marital  education default  balance housing loan  \\\n",
       "45201   53    management   married   tertiary      no      583      no   no   \n",
       "45202   34        admin.    single  secondary      no      557      no   no   \n",
       "45203   23       student    single   tertiary      no      113      no   no   \n",
       "45204   73       retired   married  secondary      no     2850      no   no   \n",
       "45205   25    technician    single  secondary      no      505      no  yes   \n",
       "45206   51    technician   married   tertiary      no      825      no   no   \n",
       "45207   71       retired  divorced    primary      no     1729      no   no   \n",
       "45208   72       retired   married  secondary      no     5715      no   no   \n",
       "45209   57   blue-collar   married  secondary      no      668      no   no   \n",
       "45210   37  entrepreneur   married  secondary      no     2971      no   no   \n",
       "\n",
       "         contact  day month  duration  campaign  pdays  previous poutcome    y  \n",
       "45201   cellular   17   nov       226         1    184         4  success  yes  \n",
       "45202   cellular   17   nov       224         1     -1         0  unknown  yes  \n",
       "45203   cellular   17   nov       266         1     -1         0  unknown  yes  \n",
       "45204   cellular   17   nov       300         1     40         8  failure  yes  \n",
       "45205   cellular   17   nov       386         2     -1         0  unknown  yes  \n",
       "45206   cellular   17   nov       977         3     -1         0  unknown  yes  \n",
       "45207   cellular   17   nov       456         2     -1         0  unknown  yes  \n",
       "45208   cellular   17   nov      1127         5    184         3  success  yes  \n",
       "45209  telephone   17   nov       508         4     -1         0  unknown   no  \n",
       "45210   cellular   17   nov       361         2    188        11    other   no  "
      ]
     },
     "execution_count": 5,
     "metadata": {},
     "output_type": "execute_result"
    }
   ],
   "source": [
    "# Displaying the last 10 rows of the dataset to examine its structure and content at the end\n",
    "print(\"Dataset Tail:\")\n",
    "bank_marketing_df.tail(10)"
   ]
  },
  {
   "cell_type": "code",
   "execution_count": 6,
   "metadata": {},
   "outputs": [
    {
     "name": "stdout",
     "output_type": "stream",
     "text": [
      "Dataset Shape:\n"
     ]
    },
    {
     "data": {
      "text/plain": [
       "(45211, 17)"
      ]
     },
     "execution_count": 6,
     "metadata": {},
     "output_type": "execute_result"
    }
   ],
   "source": [
    "# Displaying the shape of the dataset to understand its dimensions (number of rows and columns)\n",
    "print(\"Dataset Shape:\")\n",
    "bank_marketing_df.shape"
   ]
  },
  {
   "cell_type": "code",
   "execution_count": 7,
   "metadata": {},
   "outputs": [
    {
     "name": "stdout",
     "output_type": "stream",
     "text": [
      "Missing Values per Column:\n"
     ]
    },
    {
     "data": {
      "text/plain": [
       "age          0\n",
       "job          0\n",
       "marital      0\n",
       "education    0\n",
       "default      0\n",
       "balance      0\n",
       "housing      0\n",
       "loan         0\n",
       "contact      0\n",
       "day          0\n",
       "month        0\n",
       "duration     0\n",
       "campaign     0\n",
       "pdays        0\n",
       "previous     0\n",
       "poutcome     0\n",
       "y            0\n",
       "dtype: int64"
      ]
     },
     "execution_count": 7,
     "metadata": {},
     "output_type": "execute_result"
    }
   ],
   "source": [
    "# Checking for missing values in each column of the dataset\n",
    "# This helps identify columns that may need imputation or handling before further analysis\n",
    "print(\"Missing Values per Column:\")\n",
    "bank_marketing_df.isnull().sum()\n"
   ]
  },
  {
   "cell_type": "markdown",
   "metadata": {},
   "source": [
    "# **Statistical Overview Of Data**"
   ]
  },
  {
   "cell_type": "code",
   "execution_count": 8,
   "metadata": {},
   "outputs": [
    {
     "name": "stdout",
     "output_type": "stream",
     "text": [
      "<class 'pandas.core.frame.DataFrame'>\n",
      "RangeIndex: 45211 entries, 0 to 45210\n",
      "Data columns (total 17 columns):\n",
      " #   Column     Non-Null Count  Dtype \n",
      "---  ------     --------------  ----- \n",
      " 0   age        45211 non-null  int64 \n",
      " 1   job        45211 non-null  object\n",
      " 2   marital    45211 non-null  object\n",
      " 3   education  45211 non-null  object\n",
      " 4   default    45211 non-null  object\n",
      " 5   balance    45211 non-null  int64 \n",
      " 6   housing    45211 non-null  object\n",
      " 7   loan       45211 non-null  object\n",
      " 8   contact    45211 non-null  object\n",
      " 9   day        45211 non-null  int64 \n",
      " 10  month      45211 non-null  object\n",
      " 11  duration   45211 non-null  int64 \n",
      " 12  campaign   45211 non-null  int64 \n",
      " 13  pdays      45211 non-null  int64 \n",
      " 14  previous   45211 non-null  int64 \n",
      " 15  poutcome   45211 non-null  object\n",
      " 16  y          45211 non-null  object\n",
      "dtypes: int64(7), object(10)\n",
      "memory usage: 5.9+ MB\n"
     ]
    }
   ],
   "source": [
    "# Displaying dataset information, including column data types and non-null values\n",
    "# This helps in understanding the structure, data types, and presence of missing values\n",
    "bank_marketing_df.info()"
   ]
  },
  {
   "cell_type": "code",
   "execution_count": 9,
   "metadata": {},
   "outputs": [
    {
     "data": {
      "text/html": [
       "<div>\n",
       "<style scoped>\n",
       "    .dataframe tbody tr th:only-of-type {\n",
       "        vertical-align: middle;\n",
       "    }\n",
       "\n",
       "    .dataframe tbody tr th {\n",
       "        vertical-align: top;\n",
       "    }\n",
       "\n",
       "    .dataframe thead th {\n",
       "        text-align: right;\n",
       "    }\n",
       "</style>\n",
       "<table border=\"1\" class=\"dataframe\">\n",
       "  <thead>\n",
       "    <tr style=\"text-align: right;\">\n",
       "      <th></th>\n",
       "      <th>age</th>\n",
       "      <th>balance</th>\n",
       "      <th>day</th>\n",
       "      <th>duration</th>\n",
       "      <th>campaign</th>\n",
       "      <th>pdays</th>\n",
       "      <th>previous</th>\n",
       "    </tr>\n",
       "  </thead>\n",
       "  <tbody>\n",
       "    <tr>\n",
       "      <th>count</th>\n",
       "      <td>45211.000000</td>\n",
       "      <td>45211.000000</td>\n",
       "      <td>45211.000000</td>\n",
       "      <td>45211.000000</td>\n",
       "      <td>45211.000000</td>\n",
       "      <td>45211.000000</td>\n",
       "      <td>45211.000000</td>\n",
       "    </tr>\n",
       "    <tr>\n",
       "      <th>mean</th>\n",
       "      <td>40.936210</td>\n",
       "      <td>1362.272058</td>\n",
       "      <td>15.806419</td>\n",
       "      <td>258.163080</td>\n",
       "      <td>2.763841</td>\n",
       "      <td>40.197828</td>\n",
       "      <td>0.580323</td>\n",
       "    </tr>\n",
       "    <tr>\n",
       "      <th>std</th>\n",
       "      <td>10.618762</td>\n",
       "      <td>3044.765829</td>\n",
       "      <td>8.322476</td>\n",
       "      <td>257.527812</td>\n",
       "      <td>3.098021</td>\n",
       "      <td>100.128746</td>\n",
       "      <td>2.303441</td>\n",
       "    </tr>\n",
       "    <tr>\n",
       "      <th>min</th>\n",
       "      <td>18.000000</td>\n",
       "      <td>-8019.000000</td>\n",
       "      <td>1.000000</td>\n",
       "      <td>0.000000</td>\n",
       "      <td>1.000000</td>\n",
       "      <td>-1.000000</td>\n",
       "      <td>0.000000</td>\n",
       "    </tr>\n",
       "    <tr>\n",
       "      <th>25%</th>\n",
       "      <td>33.000000</td>\n",
       "      <td>72.000000</td>\n",
       "      <td>8.000000</td>\n",
       "      <td>103.000000</td>\n",
       "      <td>1.000000</td>\n",
       "      <td>-1.000000</td>\n",
       "      <td>0.000000</td>\n",
       "    </tr>\n",
       "    <tr>\n",
       "      <th>50%</th>\n",
       "      <td>39.000000</td>\n",
       "      <td>448.000000</td>\n",
       "      <td>16.000000</td>\n",
       "      <td>180.000000</td>\n",
       "      <td>2.000000</td>\n",
       "      <td>-1.000000</td>\n",
       "      <td>0.000000</td>\n",
       "    </tr>\n",
       "    <tr>\n",
       "      <th>75%</th>\n",
       "      <td>48.000000</td>\n",
       "      <td>1428.000000</td>\n",
       "      <td>21.000000</td>\n",
       "      <td>319.000000</td>\n",
       "      <td>3.000000</td>\n",
       "      <td>-1.000000</td>\n",
       "      <td>0.000000</td>\n",
       "    </tr>\n",
       "    <tr>\n",
       "      <th>max</th>\n",
       "      <td>95.000000</td>\n",
       "      <td>102127.000000</td>\n",
       "      <td>31.000000</td>\n",
       "      <td>4918.000000</td>\n",
       "      <td>63.000000</td>\n",
       "      <td>871.000000</td>\n",
       "      <td>275.000000</td>\n",
       "    </tr>\n",
       "  </tbody>\n",
       "</table>\n",
       "</div>"
      ],
      "text/plain": [
       "                age        balance           day      duration      campaign  \\\n",
       "count  45211.000000   45211.000000  45211.000000  45211.000000  45211.000000   \n",
       "mean      40.936210    1362.272058     15.806419    258.163080      2.763841   \n",
       "std       10.618762    3044.765829      8.322476    257.527812      3.098021   \n",
       "min       18.000000   -8019.000000      1.000000      0.000000      1.000000   \n",
       "25%       33.000000      72.000000      8.000000    103.000000      1.000000   \n",
       "50%       39.000000     448.000000     16.000000    180.000000      2.000000   \n",
       "75%       48.000000    1428.000000     21.000000    319.000000      3.000000   \n",
       "max       95.000000  102127.000000     31.000000   4918.000000     63.000000   \n",
       "\n",
       "              pdays      previous  \n",
       "count  45211.000000  45211.000000  \n",
       "mean      40.197828      0.580323  \n",
       "std      100.128746      2.303441  \n",
       "min       -1.000000      0.000000  \n",
       "25%       -1.000000      0.000000  \n",
       "50%       -1.000000      0.000000  \n",
       "75%       -1.000000      0.000000  \n",
       "max      871.000000    275.000000  "
      ]
     },
     "execution_count": 9,
     "metadata": {},
     "output_type": "execute_result"
    }
   ],
   "source": [
    "# Displaying summary statistics of the dataset to get an overview of numerical columns\n",
    "bank_marketing_df.describe()"
   ]
  },
  {
   "cell_type": "markdown",
   "metadata": {},
   "source": [
    "# **Data Preprocessing**\n",
    "\n",
    "Encoding categorical columns using Label Encoding.\n",
    "\n",
    "This converts string labels into numeric values to be used in machine learning models.\n"
   ]
  },
  {
   "cell_type": "code",
   "execution_count": 10,
   "metadata": {},
   "outputs": [],
   "source": [
    "from sklearn.preprocessing import LabelEncoder\n",
    "\n",
    "categorical_columns = bank_marketing_df.select_dtypes(include=['object']).columns\n",
    "\n",
    "le = LabelEncoder()\n",
    "for col in categorical_columns:\n",
    "    bank_marketing_df[col] = le.fit_transform(bank_marketing_df[col])"
   ]
  },
  {
   "cell_type": "markdown",
   "metadata": {},
   "source": [
    "# **Feature Selection**"
   ]
  },
  {
   "cell_type": "code",
   "execution_count": 11,
   "metadata": {},
   "outputs": [],
   "source": [
    "X = bank_marketing_df.drop(columns='y')\n",
    "Y = bank_marketing_df['y']"
   ]
  },
  {
   "cell_type": "markdown",
   "metadata": {},
   "source": [
    "We are using **Correlation Analysis**, **Mutual Information Score**, and **SelectKBest** techniques we can choose features that have the most significant impact on the *target variable*, removing irrelevant features.\n",
    "\n",
    "It helps improve model performance by reducing overfitting, enhancing accuracy, and speeding up computation.\n",
    "\n",
    "### **Correlation Analysis**"
   ]
  },
  {
   "cell_type": "code",
   "execution_count": 12,
   "metadata": {},
   "outputs": [
    {
     "name": "stderr",
     "output_type": "stream",
     "text": [
      "/tmp/ipykernel_184527/2925134075.py:6: FutureWarning: \n",
      "\n",
      "Passing `palette` without assigning `hue` is deprecated and will be removed in v0.14.0. Assign the `y` variable to `hue` and set `legend=False` for the same effect.\n",
      "\n",
      "  sns.barplot(x=corr.values, y=corr.index, palette='viridis')\n"
     ]
    },
    {
     "data": {
      "image/png": "[encoded data removed]",
      "text/plain": [
       "<Figure size 1000x800 with 1 Axes>"
      ]
     },
     "metadata": {},
     "output_type": "display_data"
    },
    {
     "name": "stdout",
     "output_type": "stream",
     "text": [
      "Features selected based on correlation: ['y', 'duration', 'pdays', 'housing', 'contact']\n"
     ]
    }
   ],
   "source": [
    "\n",
    "# Performing correlation analysis to identify highly correlated features with the target variable 'y'\n",
    "corr = bank_marketing_df.corr()['y'].sort_values(ascending=False)\n",
    "\n",
    "# Plotting correlation values of features with the target variable\n",
    "plt.figure(figsize=(10, 8))\n",
    "sns.barplot(x=corr.values, y=corr.index, palette='viridis')\n",
    "plt.title('Feature Correlation with Target (y)')\n",
    "plt.xlabel('Correlation Coefficient')\n",
    "plt.ylabel('Features')\n",
    "plt.show()\n",
    "\n",
    "# Selecting features that have a correlation greater than 0.1 or less than -0.1 with the target variable\n",
    "strong_corr_feat = corr[corr.abs() > 0.1].index.tolist()\n",
    "print(\"Features selected based on correlation:\", strong_corr_feat)\n"
   ]
  },
  {
   "cell_type": "markdown",
   "metadata": {},
   "source": [
    "### **Mutual Information Score**"
   ]
  },
  {
   "cell_type": "code",
   "execution_count": 13,
   "metadata": {},
   "outputs": [
    {
     "name": "stderr",
     "output_type": "stream",
     "text": [
      "/tmp/ipykernel_184527/2475792605.py:12: FutureWarning: \n",
      "\n",
      "Passing `palette` without assigning `hue` is deprecated and will be removed in v0.14.0. Assign the `y` variable to `hue` and set `legend=False` for the same effect.\n",
      "\n",
      "  sns.barplot(x='MI Score', y='Feature', data=mi_feat, palette='viridis')\n"
     ]
    },
    {
     "data": {
      "image/png": "[encoded data removed]",
      "text/plain": [
       "<Figure size 1000x800 with 1 Axes>"
      ]
     },
     "metadata": {},
     "output_type": "display_data"
    },
    {
     "name": "stdout",
     "output_type": "stream",
     "text": [
      "Top features based on mutual information: ['duration', 'poutcome', 'month', 'pdays', 'balance', 'housing', 'contact', 'previous', 'job', 'age']\n"
     ]
    }
   ],
   "source": [
    "# Applying mutual information to evaluate the relationship between features and target 'y'\n",
    "mi_scores = mutual_info_classif(X, Y, random_state=42)\n",
    "\n",
    "# Creating a DataFrame to show the mutual information scores for each feature\n",
    "mi_feat = pd.DataFrame({\n",
    "                        'Feature': X.columns,\n",
    "                        'MI Score': mi_scores\n",
    "                    }).sort_values(by='MI Score', ascending=False)\n",
    "\n",
    "# Plotting the mutual information scores for each feature\n",
    "plt.figure(figsize=(10, 8))\n",
    "sns.barplot(x='MI Score', y='Feature', data=mi_feat, palette='viridis')\n",
    "plt.title('Mutual Information Scores')\n",
    "plt.show()\n",
    "\n",
    "# Selecting top 10 features based on mutual information scores\n",
    "top_mi_feat = mi_feat['Feature'].head(10).tolist()\n",
    "print(\"Top features based on mutual information:\", top_mi_feat)\n"
   ]
  },
  {
   "cell_type": "markdown",
   "metadata": {},
   "source": [
    "### **SelectKBest**"
   ]
  },
  {
   "cell_type": "code",
   "execution_count": 14,
   "metadata": {},
   "outputs": [
    {
     "name": "stdout",
     "output_type": "stream",
     "text": [
      "Top features selected by SelectKBest: ['age', 'job', 'balance', 'housing', 'contact', 'month', 'duration', 'pdays', 'previous', 'poutcome']\n"
     ]
    }
   ],
   "source": [
    "# Applying SelectKBest feature selection technique to identify the top 10 features\n",
    "selector = SelectKBest(score_func=mutual_info_classif, k=10)\n",
    "X_kbest = selector.fit_transform(X, Y)\n",
    "\n",
    "# Extracting the selected features from the original dataset\n",
    "kbest_feat = X.columns[selector.get_support()].tolist()\n",
    "print(\"Top features selected by SelectKBest:\", kbest_feat)"
   ]
  },
  {
   "cell_type": "markdown",
   "metadata": {},
   "source": [
    "### **Combining & Declaring Selected Features**"
   ]
  },
  {
   "cell_type": "code",
   "execution_count": 15,
   "metadata": {},
   "outputs": [
    {
     "name": "stdout",
     "output_type": "stream",
     "text": [
      "Combined significant features: {'housing', 'age', 'y', 'month', 'contact', 'duration', 'previous', 'poutcome', 'balance', 'pdays', 'job'}\n"
     ]
    }
   ],
   "source": [
    "# Combining features selected from correlation analysis, mutual information, and SelectKBest\n",
    "combined_features = set(strong_corr_feat).union(top_mi_feat).union(kbest_feat)\n",
    "print(\"Combined significant features:\", combined_features)"
   ]
  },
  {
   "cell_type": "code",
   "execution_count": 16,
   "metadata": {},
   "outputs": [],
   "source": [
    "# Creating a new DataFrame with the selected features\n",
    "Features = bank_marketing_df[list(combined_features)]\n",
    "X = Features.drop(columns='y')\n",
    "Y = Features['y']"
   ]
  },
  {
   "cell_type": "markdown",
   "metadata": {},
   "source": [
    "# **Model Traning**\n",
    "### **Data Scaling**"
   ]
  },
  {
   "cell_type": "code",
   "execution_count": 32,
   "metadata": {},
   "outputs": [],
   "source": [
    "# Scaling the features using StandardScaler to standardize the dataset for better model performance\n",
    "scaler = StandardScaler()\n",
    "X_scaled = scaler.fit_transform(X)\n"
   ]
  },
  {
   "cell_type": "markdown",
   "metadata": {},
   "source": [
    "### **Data Splitting**"
   ]
  },
  {
   "cell_type": "code",
   "execution_count": 25,
   "metadata": {},
   "outputs": [
    {
     "name": "stdout",
     "output_type": "stream",
     "text": [
      "(33908, 10)\n",
      "(33908,)\n"
     ]
    }
   ],
   "source": [
    "# Splitting the dataset into training and testing sets (25% test, 75% train)\n",
    "X_train, X_test, Y_train, Y_test = train_test_split(X, Y, test_size=0.25, random_state=42)\n",
    "\n",
    "# Printing the shape of the training data to check the number of samples and features\n",
    "print(X_train.shape)\n",
    "print(Y_train.shape)"
   ]
  },
  {
   "cell_type": "markdown",
   "metadata": {},
   "source": [
    "### **Model Initialization**"
   ]
  },
  {
   "cell_type": "code",
   "execution_count": 26,
   "metadata": {},
   "outputs": [],
   "source": [
    "models = {\n",
    "    'Logistic Regression': LogisticRegression(solver=\"saga\",max_iter=5000),\n",
    "    'Decision Tree': DecisionTreeClassifier(),\n",
    "    'XGBoost': XGBClassifier(eval_metric='logloss')\n",
    "}"
   ]
  },
  {
   "cell_type": "markdown",
   "metadata": {},
   "source": [
    "### **Model Traning**"
   ]
  },
  {
   "cell_type": "code",
   "execution_count": 27,
   "metadata": {},
   "outputs": [],
   "source": [
    "for model_name, model in models.items():\n",
    "    model.fit(X_train, Y_train)  # Train the model"
   ]
  },
  {
   "cell_type": "markdown",
   "metadata": {},
   "source": [
    "### **Model Evaluation using 5 folds Cross-Validation**"
   ]
  },
  {
   "cell_type": "code",
   "execution_count": 28,
   "metadata": {},
   "outputs": [
    {
     "name": "stdout",
     "output_type": "stream",
     "text": [
      "Cross-validation Accuracy Scores:\n",
      "Logistic Regression: 0.89\n",
      "Decision Tree: 0.87\n",
      "XGBoost: 0.90\n"
     ]
    }
   ],
   "source": [
    " # Creating a dictionary to store model performance scores\n",
    "model_scores = {}\n",
    "\n",
    "# Evaluating each model using 5-fold cross-validation and recording the mean accuracy score\n",
    "for model_name, model in models.items():\n",
    "    # Perform 5-fold cross-validation to evaluate the model's performance\n",
    "    cross_val = cross_val_score(model, X_train, Y_train, cv=5, scoring='accuracy')\n",
    "    model_scores[model_name] = cross_val.mean()       # Storing the mean accuracy score for each model\n",
    "\n",
    "# Displaying the cross-validation accuracy scores for each model\n",
    "print(\"Cross-validation Accuracy Scores:\")\n",
    "for model_name, score in model_scores.items():\n",
    "    print(f\"{model_name}: {score:.2f}\")               # Outputting the model name and its corresponding accuracy score"
   ]
  },
  {
   "cell_type": "markdown",
   "metadata": {},
   "source": [
    "## **Model Evaluation and Performance Comparison**\n",
    "\n",
    "We have successfully trained  **`Logistic Regression`**, **`Decision Tree`** & **`XGBoost`**\n",
    "\n",
    "Now, it's time to evaluate the performance of these models on the test data. The evaluation will be done using the following key metrics **`Accuracy`**, **`Precision`**, **`Recall`** & **`F1-Score`**\n",
    "\n",
    "We will calculate these metrics for each model and compare their performances to determine which one is the most suitable for our problem.\n",
    "\n",
    "#### **Evaluation Process**\n",
    "\n",
    "For each model, we have:\n",
    "1. Performed **`5-fold cross-validation`** to estimate its accuracy.\n",
    "2. Trained the model using the entire training dataset.\n",
    "3. Evaluated the model using the **`test data`** to calculate precision, recall, F1-score, and accuracy.\n",
    "\n",
    "\n",
    "#### **Model Comparison**\n",
    "\n",
    "Once the performance metrics are calculated, we will present a comparison of the models based on their ability to generalize to unseen data. The metrics will help us understand:\n",
    "- Which model provides the most reliable predictions.\n",
    "- Which model strikes the best balance between **`Precision`**, **`Recall`** & **`F1-Score`**.\n",
    "- Which model is most accurate overall.\n",
    "\n",
    "By comparing these results, we can make an informed decision about the model that performs best for the given task.\n",
    "\n"
   ]
  },
  {
   "cell_type": "code",
   "execution_count": 29,
   "metadata": {},
   "outputs": [
    {
     "name": "stdout",
     "output_type": "stream",
     "text": [
      "Model Evaluation Metrics:\n"
     ]
    },
    {
     "data": {
      "text/html": [
       "<div>\n",
       "<style scoped>\n",
       "    .dataframe tbody tr th:only-of-type {\n",
       "        vertical-align: middle;\n",
       "    }\n",
       "\n",
       "    .dataframe tbody tr th {\n",
       "        vertical-align: top;\n",
       "    }\n",
       "\n",
       "    .dataframe thead th {\n",
       "        text-align: right;\n",
       "    }\n",
       "</style>\n",
       "<table border=\"1\" class=\"dataframe\">\n",
       "  <thead>\n",
       "    <tr style=\"text-align: right;\">\n",
       "      <th></th>\n",
       "      <th>Accuracy</th>\n",
       "      <th>Precision</th>\n",
       "      <th>Recall</th>\n",
       "      <th>F1-Score</th>\n",
       "    </tr>\n",
       "  </thead>\n",
       "  <tbody>\n",
       "    <tr>\n",
       "      <th>XGBoost</th>\n",
       "      <td>0.90</td>\n",
       "      <td>0.61</td>\n",
       "      <td>0.46</td>\n",
       "      <td>0.52</td>\n",
       "    </tr>\n",
       "    <tr>\n",
       "      <th>Logistic Regression</th>\n",
       "      <td>0.88</td>\n",
       "      <td>0.62</td>\n",
       "      <td>0.10</td>\n",
       "      <td>0.17</td>\n",
       "    </tr>\n",
       "    <tr>\n",
       "      <th>Decision Tree</th>\n",
       "      <td>0.87</td>\n",
       "      <td>0.46</td>\n",
       "      <td>0.46</td>\n",
       "      <td>0.46</td>\n",
       "    </tr>\n",
       "  </tbody>\n",
       "</table>\n",
       "</div>"
      ],
      "text/plain": [
       "                     Accuracy  Precision  Recall  F1-Score\n",
       "XGBoost                  0.90       0.61    0.46      0.52\n",
       "Logistic Regression      0.88       0.62    0.10      0.17\n",
       "Decision Tree            0.87       0.46    0.46      0.46"
      ]
     },
     "execution_count": 29,
     "metadata": {},
     "output_type": "execute_result"
    }
   ],
   "source": [
    "# Storing evaluation metrics (Accuracy, Precision, Recall, F1-Score) for each model\n",
    "evaluation_metrics = {}\n",
    "\n",
    "# Loop through each model to train and evaluate its performance on the test set\n",
    "for model_name, model in models.items():\n",
    "    \n",
    "    # Make predictions on the test set using the trained model\n",
    "    Y_pred = model.predict(X_test)\n",
    "    \n",
    "    # Calculate various evaluation metrics to assess model performance and Store the evaluation metrics for the current model\n",
    "    evaluation_metrics[model_name] = {\n",
    "        'Accuracy': accuracy_score(Y_test, Y_pred),                # Accuracy: Proportion of correct predictions\n",
    "        'Precision': precision_score(Y_test, Y_pred),              # Precision: Proportion of positive predictions that are correct\n",
    "        'Recall': recall_score(Y_test, Y_pred),                    # Recall: Proportion of actual positives that are correctly identified\n",
    "        'F1-Score': f1_score(Y_test, Y_pred)                       # F1-Score: Harmonic mean of Precision and Recall\n",
    "    }\n",
    "\n",
    "\n",
    "# Creating a DataFrame from the evaluation metrics dictionary\n",
    "evaluation_metrics_df = pd.DataFrame(evaluation_metrics).T.round(2)\n",
    "\n",
    "# Sorting the DataFrame by Accuracy, then Precision, F1-Score, and Recall in descending order\n",
    "evaluation_metrics_df.sort_values(by=['Accuracy', 'Precision', 'F1-Score', 'Recall'], ascending=False, inplace=True)\n",
    "\n",
    "# Displaying the DataFrame containing evaluation metrics for each model\n",
    "print(\"Model Evaluation Metrics:\")\n",
    "evaluation_metrics_df\n"
   ]
  },
  {
   "cell_type": "markdown",
   "metadata": {},
   "source": [
    "# **Feature Importance Calculation and Visualization**"
   ]
  },
  {
   "cell_type": "code",
   "execution_count": 30,
   "metadata": {},
   "outputs": [],
   "source": [
    "# Creating an empty list to store feature importance data for each model\n",
    "model_importance_list = []\n",
    "\n",
    "# Looping through each model to calculate and store feature importance\n",
    "for model_name, model in models.items():\n",
    "\n",
    "    # Calculating feature importance based on the model type\n",
    "    if model_name == 'Logistic Regression':\n",
    "        # Logistic Regression uses coefficients as feature importance\n",
    "        importance_values = np.abs(model.coef_[0])  # Getting the absolute values of the coefficients   \n",
    "    else:\n",
    "        # Decision Tree & XGBoost use the 'feature_importances_' attribute for feature importance\n",
    "        importance_values = model.feature_importances_\n",
    "    \n",
    "    feature_importance = pd.DataFrame({\n",
    "    'Model': [model_name] * len(X_train.columns),\n",
    "    'Feature': X_train.columns,\n",
    "    'Importance': importance_values }).sort_values(by='Importance', ascending=False)\n",
    "\n",
    "    # Appending each model's feature importance data to the list\n",
    "    model_importance_list.append(feature_importance)\n",
    "\n"
   ]
  },
  {
   "cell_type": "markdown",
   "metadata": {},
   "source": [
    "### **Show Plot**"
   ]
  },
  {
   "cell_type": "code",
   "execution_count": 33,
   "metadata": {},
   "outputs": [
    {
     "name": "stdout",
     "output_type": "stream",
     "text": [
      "                  Model   Feature  Importance\n",
      "0   Logistic Regression       age    0.057625\n",
      "1   Logistic Regression     month    0.010160\n",
      "2   Logistic Regression       job    0.006743\n",
      "3   Logistic Regression  poutcome    0.005063\n",
      "4   Logistic Regression  duration    0.002036\n",
      "5   Logistic Regression   contact    0.001948\n",
      "6   Logistic Regression   housing    0.001527\n",
      "7   Logistic Regression     pdays    0.001139\n",
      "8   Logistic Regression  previous    0.000467\n",
      "9   Logistic Regression   balance    0.000008\n",
      "10        Decision Tree  duration    0.342863\n",
      "11        Decision Tree   balance    0.162171\n",
      "12        Decision Tree       age    0.140456\n",
      "13        Decision Tree     month    0.111835\n",
      "14        Decision Tree     pdays    0.064615\n",
      "15        Decision Tree       job    0.062204\n",
      "16        Decision Tree  poutcome    0.053333\n",
      "17        Decision Tree   contact    0.025094\n",
      "18        Decision Tree   housing    0.022891\n",
      "19        Decision Tree  previous    0.014537\n",
      "20              XGBoost  poutcome    0.225309\n",
      "21              XGBoost   contact    0.174119\n",
      "22              XGBoost  duration    0.155794\n",
      "23              XGBoost   housing    0.151685\n",
      "24              XGBoost     month    0.086026\n",
      "25              XGBoost     pdays    0.056957\n",
      "26              XGBoost  previous    0.055928\n",
      "27              XGBoost       age    0.040310\n",
      "28              XGBoost   balance    0.029583\n",
      "29              XGBoost       job    0.024289\n"
     ]
    },
    {
     "data": {
      "image/png": "[encoded data removed]",
      "text/plain": [
       "<Figure size 1600x600 with 1 Axes>"
      ]
     },
     "metadata": {},
     "output_type": "display_data"
    }
   ],
   "source": [
    "# Combining all feature importance data into a single DataFrame for comparison\n",
    "final_importance_df = pd.concat(model_importance_list, axis=0, ignore_index=True)\n",
    "# Plotting feature importance for each model\n",
    "plt.figure(figsize=(16, 6))  # Setting figure size for the plot\n",
    "sns.barplot(data=final_importance_df, x='Feature', y='Importance', hue='Model', palette='viridis')  # Creating a bar plot\n",
    "plt.title('Feature Importance by Model')  # Setting plot title\n",
    "plt.xlabel('Feature')  # Label for x-axis\n",
    "plt.ylabel('Importance')  # Label for y-axis\n",
    "plt.ylim(0, 1)  # Setting y-axis limits as feature importance values\n",
    "plt.show()\n"
   ]
  },
  {
   "cell_type": "markdown",
   "metadata": {},
   "source": [
    "### Feature Importance & Impact\n",
    "\n",
    "- **Logistic Regression**:\n",
    "    - **`age`** and **`month`** emerge as key predictors, with **`age`** slightly more influential than **`month`**.\n",
    "    - **`job`** and **`poutcome`** also contribute to model predictions, though with lower importance.\n",
    "    - **`duration`** and **`contact`** show marginal impact, indicating that interaction length and method have a limited role.\n",
    "    - **`housing`** and **`pdays`** are less important, contributing very little to the overall model.\n",
    "\n",
    "- **Decision Tree**:\n",
    "    - **`duration`** stands out as the most significant feature, followed by **`balance** and **`age`**, highlighting the importance of interaction length and financial stability.\n",
    "    - **`month`** plays a notable role, suggesting seasonal trends influence outcomes.\n",
    "    - **`pdays`**, **`job`**, and **`poutcome`** also show moderate importance.\n",
    "    - **`contact`** and **`housing`** have a lower impact in this model.\n",
    "\n",
    "- **XGBoost**:\n",
    "    - **`poutcome`** and **`contact`** are the top features, underscoring the importance of past interactions and the method of communication.\n",
    "    - **`duration`** and **`housing`** are also impactful, with **`duration`** contributing significantly.\n",
    "    - **`month`** and **`pdays`** show some importance, suggesting timing factors affect success.\n",
    "    - **`previous`** and **`age`** have moderate influence, while **`balance`** and **`job`** are less impactful.\n",
    "\n",
    "### Conclusion\n",
    "\n",
    "- **Past engagement** (**`poutcome`** and **`contact`**) consistently plays a critical role across all models.\n",
    "- **Financial indicators** such as **`balance`** and **`housing`** are crucial, especially in the **Decision Tree** and **XGBoost** models.\n",
    "- **Interaction length** (**`duration`**) is significant in both **Decision Tree** and **XGBoost** models, while **timing factors** (**`month`**) also contribute to success rates.\n",
    "- **Demographic information** (**`age`**) is important, particularly in **Decision Tree** and **XGBoost** models, though it plays a smaller role in **Logistic Regression**.\n",
    "\n",
    "### Actionable Insights\n",
    "\n",
    "- Prioritize customers with positive **past interactions** (**`poutcome`** and **`contact`**).\n",
    "- Focus on financial stability indicators, such as **`balance`** and **`housing`**, when targeting potential customers.\n",
    "- Extend customer engagement through longer **interactions** (**`duration`**) and optimize communication methods.\n",
    "- Leverage **seasonal trends** (**`month`**) and demographic factors (**`age`**) to time campaigns effectively.\n"
   ]
  },
  {
   "cell_type": "markdown",
   "metadata": {},
   "source": []
  }
 ],
 "metadata": {
  "kernelspec": {
   "display_name": "Python 3",
   "language": "python",
   "name": "python3"
  },
  "language_info": {
   "codemirror_mode": {
    "name": "ipython",
    "version": 3
   },
   "file_extension": ".py",
   "mimetype": "text/x-python",
   "name": "python",
   "nbconvert_exporter": "python",
   "pygments_lexer": "ipython3",
   "version": "3.12.6"
  }
 },
 "nbformat": 4,
 "nbformat_minor": 2
}
